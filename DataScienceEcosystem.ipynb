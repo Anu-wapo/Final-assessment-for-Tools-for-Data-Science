{
 "cells": [
  {
   "cell_type": "markdown",
   "id": "cdfa5fa9-61d8-4b47-a315-88094d61cd12",
   "metadata": {},
   "source": [
    "# Data Science Tools and Ecosystem"
   ]
  },
  {
   "cell_type": "markdown",
   "id": "5dd2c958-db12-4dc5-a777-932f46d85c40",
   "metadata": {},
   "source": [
    "In this notebook, Data Science Tools and Ecosystem are summarized."
   ]
  },
  {
   "cell_type": "markdown",
   "id": "f2108f46-a818-46dc-a608-e6eff0f825c0",
   "metadata": {},
   "source": [
    "**Objectives:**\n",
    "\n",
    "- List popular languages used for Data Science\n",
    "- List commonly used libraries for Data Science\n",
    "- Some development environment open source tools used in Data Science\n",
    "- Examples of arithmetic expressions used in python\n"
   ]
  },
  {
   "cell_type": "markdown",
   "id": "076413ec-6e18-4a41-b075-cea4f54da657",
   "metadata": {},
   "source": [
    "## Author\n",
    "Segun"
   ]
  },
  {
   "cell_type": "code",
   "execution_count": null,
   "id": "82d6928d-2e64-4fa6-9b83-ca4099f1e198",
   "metadata": {},
   "outputs": [],
   "source": []
  },
  {
   "cell_type": "markdown",
   "id": "1ed145b0-e5e0-4c95-aa5d-3bca6cfc5dd6",
   "metadata": {},
   "source": [
    "Some of the popular languages that Data Scientist use are:\n",
    "\n",
    "1. Python\n",
    "2. R\n",
    "3. SQL"
   ]
  },
  {
   "cell_type": "markdown",
   "id": "5781ef5c-d008-4e88-b603-ef2f8390c320",
   "metadata": {},
   "source": [
    "Some of the commonly used libraries used by Data Scientist include:\n",
    "\n",
    "1. panda\n",
    "2. Numpy\n",
    "3. Matplotlib\n",
    "4. dplyr\n",
    "5. ggplot"
   ]
  },
  {
   "cell_type": "markdown",
   "id": "94bb16d6-b201-4838-aa69-02ea9751d9e9",
   "metadata": {
    "tags": []
   },
   "source": [
    "| Data Science Tools |\n",
    "|--------------------|\n",
    "| Jupyter Notebook |\n",
    "| RStudio |\n",
    "| VS Code |"
   ]
  },
  {
   "cell_type": "markdown",
   "id": "ca060490-375b-4bb0-a543-ad85effa3830",
   "metadata": {},
   "source": [
    "Below are a few examples of evaluating arithmetic expressions in python\n",
    "\n",
    "3+4\n",
    "\n",
    "20*2\n",
    "\n",
    "100/5"
   ]
  },
  {
   "cell_type": "code",
   "execution_count": 3,
   "id": "6b8f191e-d385-4d72-b0f1-a456ea3ed3f5",
   "metadata": {
    "tags": []
   },
   "outputs": [
    {
     "data": {
      "text/plain": [
       "17"
      ]
     },
     "execution_count": 3,
     "metadata": {},
     "output_type": "execute_result"
    }
   ],
   "source": [
    "# This is a simple arithmetic expression to multiply then add integers\n",
    "\n",
    "(3*4)+5"
   ]
  },
  {
   "cell_type": "code",
   "execution_count": 4,
   "id": "8c4d70d2-2763-4060-a04d-602f5e929933",
   "metadata": {
    "tags": []
   },
   "outputs": [
    {
     "name": "stdout",
     "output_type": "stream",
     "text": [
      "3.3333333333333335 Hours\n"
     ]
    }
   ],
   "source": [
    "# This will convert 200 minutes to hours by dividing by 60\n",
    "\n",
    "minutes = 200\n",
    "hours = minutes/60\n",
    "\n",
    "print(hours, \"Hours\")"
   ]
  },
  {
   "cell_type": "code",
   "execution_count": null,
   "id": "7312d1bb-a411-48fe-94c8-111e7f7901b4",
   "metadata": {},
   "outputs": [],
   "source": []
  }
 ],
 "metadata": {
  "kernelspec": {
   "display_name": "Python",
   "language": "python",
   "name": "conda-env-python-py"
  },
  "language_info": {
   "codemirror_mode": {
    "name": "ipython",
    "version": 3
   },
   "file_extension": ".py",
   "mimetype": "text/x-python",
   "name": "python",
   "nbconvert_exporter": "python",
   "pygments_lexer": "ipython3",
   "version": "3.7.12"
  }
 },
 "nbformat": 4,
 "nbformat_minor": 5
}
